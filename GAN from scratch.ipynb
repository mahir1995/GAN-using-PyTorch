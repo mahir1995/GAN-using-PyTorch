{
  "cells": [
    {
      "metadata": {
        "_uuid": "8f2839f25d086af736a60e9eeb907d3b93b6e0e5",
        "_cell_guid": "b1076dfc-b9ad-4769-8c92-a6c4dae69d19",
        "trusted": true
      },
      "cell_type": "code",
      "source": "import torch\nfrom torch import nn, optim\nfrom torch.autograd.variable import Variable\nfrom torchvision import transforms, datasets\n\nfrom IPython.display import clear_output\n\nimport matplotlib.pyplot as plt \n\n%matplotlib inline",
      "execution_count": 7,
      "outputs": []
    },
    {
      "metadata": {
        "_cell_guid": "79c7e3d0-c299-4dcb-8224-4455121ee9b0",
        "_uuid": "d629ff2d2480ee46fbb7e2d37f6b5fab8052498a",
        "trusted": true
      },
      "cell_type": "code",
      "source": "def mnist_data():\n    compose = transforms.Compose(\n                [transforms.ToTensor(),\n                 transforms.Normalize((.5,.5,.5),(.5,.5,.5))\n                ])\n    out_dir = './dataset'\n    \n    return datasets.MNIST(out_dir, transform=compose, download=True)\n\ndata = mnist_data()",
      "execution_count": 8,
      "outputs": [
        {
          "output_type": "stream",
          "text": "Downloading http://yann.lecun.com/exdb/mnist/train-images-idx3-ubyte.gz\nDownloading http://yann.lecun.com/exdb/mnist/train-labels-idx1-ubyte.gz\nDownloading http://yann.lecun.com/exdb/mnist/t10k-images-idx3-ubyte.gz\nDownloading http://yann.lecun.com/exdb/mnist/t10k-labels-idx1-ubyte.gz\nProcessing...\nDone!\n",
          "name": "stdout"
        }
      ]
    },
    {
      "metadata": {
        "trusted": true,
        "_uuid": "9879b97971acf7b5ca05f8c90282085c62ebdb6a"
      },
      "cell_type": "code",
      "source": "## Create loader with data so that we can iterate over it\ndata_loader = torch.utils.data.DataLoader(data, batch_size=100, shuffle=True)\nnum_batches = len(data_loader)",
      "execution_count": 9,
      "outputs": []
    },
    {
      "metadata": {
        "trusted": true,
        "_uuid": "e585573ff028014fba8a5f15c59d9a1ed4e1db6d"
      },
      "cell_type": "code",
      "source": "class DiscriminatorNet(torch.nn.Module):\n    \"\"\"\n    Three hidden layer discriminative neural network\n    \"\"\"\n    def __init__(self):\n        super(DiscriminatorNet, self).__init__()\n        \n        n_features = 784\n        n_out = 1\n        \n        self.hidden0 = nn.Sequential(\n            nn.Linear(n_features, 1024),\n            nn.LeakyReLU(0.2),\n            nn.Dropout(0.3))\n        \n        self.hidden1 = nn.Sequential(\n            nn.Linear(1024, 512),\n            nn.LeakyReLU(0.2),\n            nn.Dropout(0.3))\n        \n        self.hidden2 = nn.Sequential(\n            nn.Linear(512, 256),\n            nn.LeakyReLU(0.2),\n            nn.Dropout(0.3))\n        \n        self.out = nn.Sequential(\n            nn.Linear(256, n_out),\n            nn.Sigmoid())\n        \n    def forward(self, x):\n        x = self.hidden0(x)\n        x = self.hidden1(x)\n        x = self.hidden2(x)\n        x = self.out(x)\n        return x",
      "execution_count": 10,
      "outputs": []
    },
    {
      "metadata": {
        "trusted": true,
        "_uuid": "114acacdcb5c837f16081ed6e3700afa15987239"
      },
      "cell_type": "code",
      "source": "class GeneratorNet(torch.nn.Module):\n    \"\"\"\n    Three hidden layer GeneratorNetwork\n    \"\"\"\n    def __init__(self):\n        super(GeneratorNet, self).__init__()\n        \n        n_features = 100\n        n_out = 784\n        \n        self.hidden0 = nn.Sequential(\n            nn.Linear(n_features, 256),\n            nn.LeakyReLU(0.2))\n        \n        self.hidden1 = nn.Sequential(\n            nn.Linear(256, 512),\n            nn.LeakyReLU(0.2))\n        \n        self.hidden2 = nn.Sequential(\n            nn.Linear(512, 1024),\n            nn.LeakyReLU(0.2))\n        \n        self.out = nn.Sequential(\n            nn.Linear(1024, n_out),\n            nn.Tanh())\n        \n    def forward(self, x):\n        x = self.hidden0(x)\n        x = self.hidden1(x)\n        x = self.hidden2(x)\n        x = self.out(x)\n        return x  ",
      "execution_count": 11,
      "outputs": []
    },
    {
      "metadata": {
        "trusted": true,
        "_uuid": "9a5a7e9c06c45b7aab9e10e8c4fcc9c58f130697"
      },
      "cell_type": "code",
      "source": "def noise(size):\n    n = Variable(torch.randn(size, 100))\n    if torch.cuda.is_available(): return n.cuda()\n    return n",
      "execution_count": 12,
      "outputs": []
    },
    {
      "metadata": {
        "trusted": true,
        "_uuid": "b01f125a91f05a7af57de0772055da7ea113b711"
      },
      "cell_type": "code",
      "source": "def images_to_vectors(images):\n    return images.view(images.size(0), 784)\n\ndef vectors_to_images(vectors):\n    return vectors.view(vectors.size(0), 1, 28, 28)",
      "execution_count": 13,
      "outputs": []
    },
    {
      "metadata": {
        "trusted": true,
        "_uuid": "8d2aba096f967e2668786df9ad7a6837ab4bb645"
      },
      "cell_type": "code",
      "source": "discriminator = DiscriminatorNet()\ngenerator = GeneratorNet()  \nif torch.cuda.is_available():\n    discriminator.cuda()\n    generator.cuda()",
      "execution_count": 14,
      "outputs": []
    },
    {
      "metadata": {
        "trusted": true,
        "_uuid": "239ba98a4c65293b085f6d7d81d2208484d4c62c"
      },
      "cell_type": "code",
      "source": "d_optimizer = optim.Adam(discriminator.parameters(), lr=0.0002)\ng_optimizer = optim.Adam(generator.parameters(), lr=0.0002)",
      "execution_count": 15,
      "outputs": []
    },
    {
      "metadata": {
        "trusted": true,
        "_uuid": "f5d02f09d9649287db0dd2a6a1885ee975687cdb"
      },
      "cell_type": "code",
      "source": "loss = nn.BCELoss()",
      "execution_count": 16,
      "outputs": []
    },
    {
      "metadata": {
        "trusted": true,
        "_uuid": "e44401fd1f2088e9f4cd7267ef5be39ccb9bc29a"
      },
      "cell_type": "code",
      "source": "def ones_target(size):\n    data = Variable(torch.ones(size, 1))\n    if torch.cuda.is_available(): return data.cuda()\n    return data\n\ndef zeros_target(size):\n    data = Variable(torch.zeros(size, 1))\n    if torch.cuda.is_available(): return data.cuda()\n    return data",
      "execution_count": 17,
      "outputs": []
    },
    {
      "metadata": {
        "trusted": true,
        "_uuid": "21f96802a11536c3e600a0a8c917670eb912b1e3"
      },
      "cell_type": "code",
      "source": "def train_discriminator(optimizer, real_data, fake_data):\n    N = real_data.size(0)\n    optimizer.zero_grad()\n    \n    # Train on real data\n    prediction_real = discriminator(real_data)\n    # Calculate error and backpropagate\n    error_real = loss(prediction_real, ones_target(N))\n    error_real.backward()\n    \n    # Train on fake data\n    prediction_fake = discriminator(fake_data)\n    # Calculate error and backpropagate\n    error_fake = loss(prediction_fake, zeros_target(N))\n    error_fake.backward()\n    \n    # Update weights with gradient\n    optimizer.step()\n    \n    # Return error and predictions\n    return (error_real + error_fake), prediction_real, prediction_fake",
      "execution_count": 18,
      "outputs": []
    },
    {
      "metadata": {
        "trusted": true,
        "_uuid": "bc08fdee2cab05d111493366f14fdbc77961c544"
      },
      "cell_type": "code",
      "source": "def train_generator(optimizer, fake_data):\n    N = fake_data.size(0)\n    optimizer.zero_grad()\n    \n    # Sample noise and generate fake data\n    prediction = discriminator(fake_data)\n    \n    # Calculate error and backpropagate\n    error = loss(prediction, ones_target(N))\n    error.backward()\n    \n    # Updateweightswith gradient\n    optimizer.step()\n    \n    return error",
      "execution_count": 19,
      "outputs": []
    },
    {
      "metadata": {
        "trusted": true,
        "_uuid": "2fb59e2e3f636ae88787c49541bcd728ea37ec1e"
      },
      "cell_type": "code",
      "source": "num_test_samples = 16\ntest_noise = noise(num_test_samples)",
      "execution_count": 20,
      "outputs": []
    },
    {
      "metadata": {
        "trusted": true,
        "_uuid": "bb7ab35ce12e6277b3439dbbcc65bbd6610316a9"
      },
      "cell_type": "code",
      "source": "# Create logger instance\nlogger = Logger(model_name='VGAN', data_name='MNIST')\n\nnum_epochs = 200\n\nfor epoch in range(num_epochs):\n    \n    for n_batch, (real_batch, _) in enumerate(data_loader):\n        \n        N = real_batch.size(0)\n        \n        # Train discriminator\n        real_data = Variable(images_to_vectors(real_batch))\n        if torch.cuda.is_available(): real_data = real_data.cuda()\n        # .detach() is used so gradient for generator is not calculated\n        fake_data = generator(noise(N)).detach()\n        \n        d_error, d_pred_real, d_pred_fake = train_discriminator(d_optimizer, real_data, fake_data)\n        \n        # Train Generator\n        fake_data = generator(noise(N))\n        g_error = train_generator(g_optimizer, fake_data)\n        \n        # Log batch error\n        # logger.log(d_error, g_error, epoch, n_batch, num_batches)\n        \n        # Display Progress every few batches\n        if (n_batch) % 100 == 0: \n            display.clear_output(True)\n            test_images = vectors_to_images(generator(test_noise)).data.cpu()\n            logger.log_images(\n                test_images, num_test_samples, \n                epoch, n_batch, num_batches\n            );\n            # Display status Logs\n            logger.display_status(\n                epoch, num_epochs, n_batch, num_batches,\n                d_error, g_error, d_pred_real, d_pred_fake\n            ) ",
      "execution_count": null,
      "outputs": []
    },
    {
      "metadata": {
        "trusted": true,
        "_uuid": "c7b80cf8e31fdca0beba46471827e5c49e95ea3b"
      },
      "cell_type": "code",
      "source": "",
      "execution_count": null,
      "outputs": []
    },
    {
      "metadata": {
        "trusted": true,
        "_uuid": "700697c6dbe6f0329b13f3720d4ec5bb75d63e88"
      },
      "cell_type": "code",
      "source": "",
      "execution_count": null,
      "outputs": []
    },
    {
      "metadata": {
        "trusted": true,
        "_uuid": "569d5c685375374d72e9520400ee28aa64d95a8b"
      },
      "cell_type": "code",
      "source": "",
      "execution_count": null,
      "outputs": []
    },
    {
      "metadata": {
        "trusted": true,
        "_uuid": "d84bb1a565e0b2233640e0f90a6a0f975310fbbb"
      },
      "cell_type": "code",
      "source": "",
      "execution_count": null,
      "outputs": []
    },
    {
      "metadata": {
        "trusted": true,
        "_uuid": "1d2c1817082e42d17ed8f74c5b74acc49ed1af27"
      },
      "cell_type": "code",
      "source": "",
      "execution_count": null,
      "outputs": []
    },
    {
      "metadata": {
        "trusted": true,
        "_uuid": "5181465bb7e335e004f44b6d5c025bef62e96b2c"
      },
      "cell_type": "code",
      "source": "",
      "execution_count": null,
      "outputs": []
    }
  ],
  "metadata": {
    "kernelspec": {
      "display_name": "Python 3",
      "language": "python",
      "name": "python3"
    },
    "language_info": {
      "name": "python",
      "version": "3.6.6",
      "mimetype": "text/x-python",
      "codemirror_mode": {
        "name": "ipython",
        "version": 3
      },
      "pygments_lexer": "ipython3",
      "nbconvert_exporter": "python",
      "file_extension": ".py"
    }
  },
  "nbformat": 4,
  "nbformat_minor": 1
}